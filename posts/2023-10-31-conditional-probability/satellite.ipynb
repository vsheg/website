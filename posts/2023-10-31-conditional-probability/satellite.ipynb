{
 "cells": [
  {
   "cell_type": "code",
   "execution_count": 1,
   "metadata": {},
   "outputs": [],
   "source": [
    "import matplotlib.pyplot as plt\n",
    "import numpy as np\n",
    "from ipywidgets import FloatSlider, interact"
   ]
  },
  {
   "cell_type": "markdown",
   "metadata": {},
   "source": [
    "Parameters:"
   ]
  },
  {
   "cell_type": "code",
   "execution_count": 2,
   "metadata": {},
   "outputs": [],
   "source": [
    "muX, muY = 4, 4\n",
    "sigmaX, sigmaY = 3, 3\n",
    "sigmaD = 0.5  # equivalent to 1/2\n",
    "dAverage = np.sqrt(muX**2 + muY**2)"
   ]
  },
  {
   "cell_type": "markdown",
   "metadata": {},
   "source": [
    "2D Gaussian function $f(x, y)$:"
   ]
  },
  {
   "cell_type": "code",
   "execution_count": 3,
   "metadata": {},
   "outputs": [],
   "source": [
    "def f_xy(x, y):\n",
    "    return (\n",
    "        1\n",
    "        / (2 * np.pi * sigmaX * sigmaY)\n",
    "        * np.exp(\n",
    "            -(((x - muX) ** 2) / (2 * sigmaX**2) + ((y - muY) ** 2) / (2 * sigmaY**2))\n",
    "        )\n",
    "    )"
   ]
  },
  {
   "cell_type": "markdown",
   "metadata": {},
   "source": [
    "Distance Gaussian $f_D(d, x, y)$:"
   ]
  },
  {
   "cell_type": "code",
   "execution_count": 4,
   "metadata": {},
   "outputs": [],
   "source": [
    "def fD(d, x, y):\n",
    "    return (\n",
    "        1\n",
    "        / (np.sqrt(2 * np.pi) * sigmaD)\n",
    "        * np.exp(-((d - np.sqrt(x**2 + y**2)) ** 2) / (2 * sigmaD**2))\n",
    "    )"
   ]
  },
  {
   "cell_type": "markdown",
   "metadata": {},
   "source": [
    "Combined function $f(x, y, d)$:"
   ]
  },
  {
   "cell_type": "code",
   "execution_count": 5,
   "metadata": {},
   "outputs": [],
   "source": [
    "def f_xy_d(x, y, d):\n",
    "    return fD(d, x, y) * f_xy(x, y)"
   ]
  },
  {
   "cell_type": "markdown",
   "metadata": {},
   "source": [
    "Interactive plotting function: one panel for $f(x, y)$, the other for $f(x, y, d)$ with a circle of radius $d$."
   ]
  },
  {
   "cell_type": "code",
   "execution_count": 14,
   "metadata": {},
   "outputs": [],
   "source": [
    "def update_plot(d):\n",
    "    # Create a grid for x and y over the domain [-10, 10]\n",
    "    x = np.linspace(-10, 10, 200)\n",
    "    y = np.linspace(-10, 10, 200)\n",
    "    X, Y = np.meshgrid(x, y)\n",
    "\n",
    "    img_array_left = f_xy(X, Y)\n",
    "    img_array_right = f_xy_d(X, Y, d)\n",
    "\n",
    "    fig, axes = plt.subplots(1, 2, figsize=(12, 5))\n",
    "\n",
    "    # LEFT PLOT\n",
    "    # Plot the 2D Gaussian f(x,y)\n",
    "    axes[0].imshow(\n",
    "        img_array_left, extent=[-10, 10, -10, 10], origin=\"lower\", aspect=\"equal\"\n",
    "    )\n",
    "    axes[0].set_title(\"Unconditional $f(x, y)$\")\n",
    "\n",
    "    # RIGHT PLOT\n",
    "    # Plot the combined function f(x,y,d)\n",
    "    axes[1].imshow(\n",
    "        img_array_right, extent=[-10, 10, -10, 10], origin=\"lower\", aspect=\"equal\"\n",
    "    )\n",
    "    axes[1].set_title(f\"Conditional $f(x, y, d={d:.2f})$\")\n",
    "\n",
    "    # Overlay a circle with radius d centered at (0,0)\n",
    "    circle = plt.Circle((0, 0), d, color=\"gray\", fill=False, lw=1)\n",
    "    axes[1].add_artist(circle)\n",
    "\n",
    "    plt.show()"
   ]
  },
  {
   "cell_type": "markdown",
   "metadata": {},
   "source": [
    "Create the interactive slider for $d$"
   ]
  },
  {
   "cell_type": "code",
   "execution_count": 15,
   "metadata": {},
   "outputs": [
    {
     "data": {
      "application/vnd.jupyter.widget-view+json": {
       "model_id": "cf0ce0a2bf25476bb21c6adf71cb18c9",
       "version_major": 2,
       "version_minor": 0
      },
      "text/plain": [
       "interactive(children=(FloatSlider(value=5.656854249492381, description='d', max=7.656854249492381, min=3.65685…"
      ]
     },
     "metadata": {},
     "output_type": "display_data"
    },
    {
     "data": {
      "text/plain": [
       "<function __main__.update_plot(d)>"
      ]
     },
     "execution_count": 15,
     "metadata": {},
     "output_type": "execute_result"
    }
   ],
   "source": [
    "interact(\n",
    "    update_plot,\n",
    "    d=FloatSlider(min=dAverage - 2, max=dAverage + 2, step=0.1, value=dAverage),\n",
    ")"
   ]
  },
  {
   "cell_type": "code",
   "execution_count": null,
   "metadata": {},
   "outputs": [],
   "source": []
  }
 ],
 "metadata": {
  "kernelspec": {
   "display_name": ".venv",
   "language": "python",
   "name": "python3"
  },
  "language_info": {
   "codemirror_mode": {
    "name": "ipython",
    "version": 3
   },
   "file_extension": ".py",
   "mimetype": "text/x-python",
   "name": "python",
   "nbconvert_exporter": "python",
   "pygments_lexer": "ipython3",
   "version": "3.10.16"
  }
 },
 "nbformat": 4,
 "nbformat_minor": 2
}
